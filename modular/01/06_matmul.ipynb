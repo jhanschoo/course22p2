{
 "cells": [
  {
   "cell_type": "markdown",
   "metadata": {},
   "source": [
    "We illustrate how we might write a class that indexes like numpy arrays and torch tensors."
   ]
  },
  {
   "cell_type": "code",
   "execution_count": 1,
   "metadata": {
    "metadata": {}
   },
   "outputs": [
    {
     "data": {
      "text/plain": [
       "(torch.Size([50000, 784]), 'torch.FloatTensor')"
      ]
     },
     "execution_count": 1,
     "metadata": {},
     "output_type": "execute_result"
    }
   ],
   "source": [
    "from fastai.vision.all import *\n",
    "\n",
    "pickle_path = URLs.path('mnist_png')/'mnist_png.pkl'\n",
    "path = untar_data(URLs.MNIST)/'training'\n",
    "\n",
    "if not pickle_path.exists():\n",
    "    pickle_path.parent.mkdir(parents=True, exist_ok=True)\n",
    "    ds = DataBlock(\n",
    "        blocks = (ImageBlock(PILImageBW), CategoryBlock),\n",
    "        get_items = get_image_files,\n",
    "        get_y = parent_label,\n",
    "        splitter = RandomSplitter(1/6, seed=0)\n",
    "    ).datasets(path)\n",
    "\n",
    "    xs, ys = zip(*ds.train, *ds.valid)\n",
    "    xs = np.stack(L(map(lambda x: np.array(x, dtype=np.float32).reshape(-1), xs))) / 255.\n",
    "    ys = np.array(ys, dtype=np.int64)\n",
    "\n",
    "    x_train, x_valid = xs[:len(ds.train)], xs[len(ds.train):]\n",
    "    y_train, y_valid = ys[:len(ds.train)], ys[len(ds.train):]\n",
    "\n",
    "    save_pickle(pickle_path, [x_train, y_train, x_valid, y_valid])\n",
    "\n",
    "    del ds, xs, ys, x_train, y_train, x_valid, y_valid\n",
    "\n",
    "import torch\n",
    "from torch import tensor\n",
    "\n",
    "x_train, y_train, x_valid, y_valid = map(tensor, load_pickle(pickle_path))\n",
    "x_train.shape, x_train.type()\n"
   ]
  },
  {
   "cell_type": "code",
   "execution_count": 2,
   "metadata": {
    "metadata": {}
   },
   "outputs": [
    {
     "data": {
      "text/plain": [
       "(torch.Size([50000, 784]),\n",
       " torch.Size([10000, 784]),\n",
       " torch.Size([50000]),\n",
       " torch.Size([10000]))"
      ]
     },
     "execution_count": 2,
     "metadata": {},
     "output_type": "execute_result"
    }
   ],
   "source": [
    "x_train.shape, x_valid.shape, y_train.shape, y_valid.shape"
   ]
  },
  {
   "cell_type": "markdown",
   "metadata": {},
   "source": [
    "We create a model that performs the following:\n",
    "\n",
    "`dataset` (N-by-784) @ `weights` (784-by-10) + `bias` (10) = `preds` (N-by-10),\n",
    "\n",
    "where `@` indicated matrix multiplication, we have abstracted away the activation functions, and the 10 output dimensions encode a probability distribution for the model's convidence in the input being each digit."
   ]
  },
  {
   "cell_type": "code",
   "execution_count": 3,
   "metadata": {
    "metadata": {}
   },
   "outputs": [],
   "source": [
    "torch.manual_seed(1)\n",
    "weights = torch.randn(784, 10)\n",
    "bias = torch.zeros(10)\n"
   ]
  },
  {
   "cell_type": "markdown",
   "metadata": {},
   "source": [
    "Demo of matmul as dotproduct on a slice."
   ]
  },
  {
   "cell_type": "code",
   "execution_count": 4,
   "metadata": {
    "metadata": {}
   },
   "outputs": [
    {
     "name": "stdout",
     "output_type": "stream",
     "text": [
      "torch.Size([5, 10])\n"
     ]
    },
    {
     "data": {
      "text/plain": [
       "tensor([[ -7.8318,  -9.3646,   6.0571, -14.2204,  20.7075,   1.9792, -20.8511,\n",
       "         -14.9247, -24.9726,  -1.5234],\n",
       "        [  9.5953,   8.4150,   8.4275,  -7.7321,  11.0846, -26.4744,  -3.6933,\n",
       "          -9.4670, -35.0040,   7.3345],\n",
       "        [  4.7560,  -3.3547,  -8.8216,  11.5083,  -5.3496,  -2.2799, -14.0786,\n",
       "           1.3523,  -7.9863,  -3.3055],\n",
       "        [  6.8275,   1.2459,  -0.5831,  13.8737,  -1.6997,  -7.8282,  -1.4413,\n",
       "           0.4070, -17.4009,  -7.7779],\n",
       "        [-11.6686, -12.9786,  -7.4251,  -4.4291,  -1.6932,   3.1152,  -5.8956,\n",
       "          -5.2578, -15.3839,   3.5509]])"
      ]
     },
     "execution_count": 4,
     "metadata": {},
     "output_type": "execute_result"
    }
   ],
   "source": [
    "m1 = x_valid[:5]\n",
    "m2 = weights\n",
    "\n",
    "ar, ac = m1.shape\n",
    "br, bc = m2.shape\n",
    "(ar, ac), (br, bc)\n",
    "\n",
    "t1 = torch.zeros(ar, bc)\n",
    "print(t1.shape)\n",
    "\n",
    "for i in range(ar):         # 5\n",
    "    for j in range(bc):     # 10\n",
    "        for k in range(ac): # 784\n",
    "            t1[i, j] += m1[i, k] * m2[k, j]\n",
    "\n",
    "t1"
   ]
  },
  {
   "cell_type": "code",
   "execution_count": 5,
   "metadata": {
    "metadata": {}
   },
   "outputs": [
    {
     "data": {
      "text/plain": [
       "torch.Size([5, 10])"
      ]
     },
     "execution_count": 5,
     "metadata": {},
     "output_type": "execute_result"
    }
   ],
   "source": [
    "t1.shape\n"
   ]
  },
  {
   "cell_type": "markdown",
   "metadata": {},
   "source": [
    "We abstract it to its own function."
   ]
  },
  {
   "cell_type": "code",
   "execution_count": 6,
   "metadata": {
    "metadata": {}
   },
   "outputs": [],
   "source": [
    "def matmul(a, b):\n",
    "    (ar, ac), (br, bc) = a.shape, b.shape\n",
    "    c = torch.zeros(ar, bc)\n",
    "    for i in range(ar):\n",
    "        for j in range(bc):\n",
    "            for k in range(ac):\n",
    "                c[i, j] += a[i, k] * b[k, j]\n",
    "    return c\n"
   ]
  },
  {
   "cell_type": "markdown",
   "metadata": {},
   "source": [
    "And time how long it takes to run."
   ]
  },
  {
   "cell_type": "code",
   "execution_count": 7,
   "metadata": {
    "metadata": {}
   },
   "outputs": [
    {
     "name": "stdout",
     "output_type": "stream",
     "text": [
      "CPU times: user 431 ms, sys: 0 ns, total: 431 ms\n",
      "Wall time: 430 ms\n"
     ]
    }
   ],
   "source": [
    "%time _ = matmul(m1, m2)\n"
   ]
  },
  {
   "cell_type": "markdown",
   "metadata": {},
   "source": [
    "The innermost loop of matmul is run the following number of times"
   ]
  },
  {
   "cell_type": "code",
   "execution_count": 8,
   "metadata": {
    "metadata": {}
   },
   "outputs": [
    {
     "data": {
      "text/plain": [
       "39200"
      ]
     },
     "execution_count": 8,
     "metadata": {},
     "output_type": "execute_result"
    }
   ],
   "source": [
    "ar * bc * ac\n"
   ]
  }
 ],
 "metadata": {
  "kernelspec": {
   "display_name": "fastai",
   "language": "python",
   "name": "python3"
  },
  "language_info": {
   "codemirror_mode": {
    "name": "ipython",
    "version": 3
   },
   "file_extension": ".py",
   "mimetype": "text/x-python",
   "name": "python",
   "nbconvert_exporter": "python",
   "pygments_lexer": "ipython3",
   "version": "3.12.3"
  }
 },
 "nbformat": 4,
 "nbformat_minor": 2
}
