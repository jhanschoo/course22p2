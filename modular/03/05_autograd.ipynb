{
 "cells": [
  {
   "cell_type": "markdown",
   "metadata": {},
   "source": [
    "Finally we demonstrate automatic differentiation with PyTorch's autograd."
   ]
  },
  {
   "cell_type": "code",
   "execution_count": 1,
   "metadata": {},
   "outputs": [],
   "source": [
    "from fastai.vision.all import *"
   ]
  },
  {
   "cell_type": "code",
   "execution_count": 2,
   "metadata": {},
   "outputs": [],
   "source": [
    "class Linear(nn.Module):\n",
    "    def __init__(self, n_in, n_out):\n",
    "        super().__init__()\n",
    "        self.w = torch.randn(n_in, n_out).requires_grad_()\n",
    "        self.b = torch.zeros(n_out).requires_grad_()\n",
    "    def forward(self, inp):\n",
    "        return inp @ self.w + self.b\n"
   ]
  },
  {
   "cell_type": "code",
   "execution_count": 3,
   "metadata": {},
   "outputs": [],
   "source": [
    "class Model(nn.Module):\n",
    "    def __init__(self, n_in, nh, n_out):\n",
    "        super().__init__()\n",
    "        self.layers = [Linear(n_in, nh), nn.ReLU(), Linear(nh, n_out)]\n",
    "        \n",
    "    def __call__(self, x, targ):\n",
    "        for l in self.layers:\n",
    "            x = l(x)\n",
    "        return F.mse_loss(x, targ[:, None])\n"
   ]
  },
  {
   "cell_type": "code",
   "execution_count": 4,
   "metadata": {},
   "outputs": [],
   "source": [
    "\n",
    "pickle_path = URLs.path('mnist_png')/'mnist_png.pkl'\n",
    "path = untar_data(URLs.MNIST)/'training'\n",
    "\n",
    "if not pickle_path.exists():\n",
    "    pickle_path.parent.mkdir(parents=True, exist_ok=True)\n",
    "    ds = DataBlock(\n",
    "        blocks = (ImageBlock(PILImageBW), CategoryBlock),\n",
    "        get_items = get_image_files,\n",
    "        get_y = parent_label,\n",
    "        splitter = RandomSplitter(1/6, seed=0)\n",
    "    ).datasets(path)\n",
    "\n",
    "    xs, ys = zip(*ds.train, *ds.valid)\n",
    "    xs = np.stack(L(map(lambda x: np.array(x, dtype=np.float32).reshape(-1), xs))) / 255.\n",
    "    ys = np.array(ys, dtype=np.int64)\n",
    "\n",
    "    x_train, x_valid = xs[:len(ds.train)], xs[len(ds.train):]\n",
    "    y_train, y_valid = ys[:len(ds.train)], ys[len(ds.train):]\n",
    "\n",
    "    save_pickle(pickle_path, [x_train, y_train, x_valid, y_valid])\n",
    "\n",
    "    del ds, xs, ys, x_train, y_train, x_valid, y_valid\n",
    "\n",
    "x_train, y_train, x_valid, y_valid = map(tensor, load_pickle(pickle_path))\n"
   ]
  },
  {
   "cell_type": "code",
   "execution_count": 5,
   "metadata": {},
   "outputs": [],
   "source": [
    "n, m = x_train.shape\n",
    "c = y_train.max() + 1\n",
    "nh = 50"
   ]
  },
  {
   "cell_type": "code",
   "execution_count": 6,
   "metadata": {},
   "outputs": [],
   "source": [
    "model = Model(m, nh, 1)\n",
    "loss = model(x_train, y_train.to(torch.float))\n",
    "loss.backward()\n"
   ]
  },
  {
   "cell_type": "code",
   "execution_count": 7,
   "metadata": {},
   "outputs": [
    {
     "data": {
      "text/plain": [
       "tensor([ 2.9768e+00, -2.7384e+00, -8.0852e+00,  6.2184e-01, -1.1352e+01,\n",
       "        -2.7832e+01,  8.5264e+01, -4.6342e+01, -8.1143e+00, -1.2306e+01,\n",
       "        -1.1445e+02,  1.9698e+01,  3.4802e+01,  4.7113e+01,  9.5526e+01,\n",
       "         3.3336e+01,  4.0315e+00,  6.1828e+00, -2.4543e-01,  1.1454e+01,\n",
       "         1.6382e+01,  3.3253e+01,  2.9294e-02,  1.2234e+01, -3.0248e+01,\n",
       "        -5.9352e+01,  2.9054e+01,  7.1098e+01, -1.6847e+01,  1.8057e+01,\n",
       "         1.4760e+01,  2.0049e+01,  1.1648e+02,  9.3475e+01, -5.9332e-01,\n",
       "         2.8878e+01,  1.8214e+01,  5.0956e+01,  1.3740e+02, -1.0519e+02,\n",
       "        -1.1980e+02, -1.6477e+01, -5.6699e+00,  3.5579e+01,  3.3396e+00,\n",
       "         8.3904e+01, -5.9529e+01, -2.5959e+01,  7.4153e+01,  2.1316e+02])"
      ]
     },
     "execution_count": 7,
     "metadata": {},
     "output_type": "execute_result"
    }
   ],
   "source": [
    "l0 = model.layers[0]\n",
    "l0.b.grad\n"
   ]
  }
 ],
 "metadata": {
  "kernelspec": {
   "display_name": "fastai",
   "language": "python",
   "name": "python3"
  },
  "language_info": {
   "codemirror_mode": {
    "name": "ipython",
    "version": 3
   },
   "file_extension": ".py",
   "mimetype": "text/x-python",
   "name": "python",
   "nbconvert_exporter": "python",
   "pygments_lexer": "ipython3",
   "version": "3.12.3"
  }
 },
 "nbformat": 4,
 "nbformat_minor": 2
}
