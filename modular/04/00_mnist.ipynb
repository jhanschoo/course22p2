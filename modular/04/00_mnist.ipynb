{
 "cells": [
  {
   "cell_type": "markdown",
   "metadata": {},
   "source": [
    "We define a simple FCN architecture."
   ]
  },
  {
   "cell_type": "code",
   "execution_count": 1,
   "metadata": {},
   "outputs": [],
   "source": [
    "from torch import nn\n",
    "\n",
    "class Model(nn.Module):\n",
    "    def __init__(self, n_in, nh, n_out):\n",
    "        super().__init__()\n",
    "        self.layers = [nn.Linear(n_in, nh), nn.ReLU(), nn.Linear(nh, n_out)]\n",
    "        \n",
    "    def __call__(self, x):\n",
    "        for l in self.layers:\n",
    "            x = l(x)\n",
    "        return x"
   ]
  },
  {
   "cell_type": "markdown",
   "metadata": {},
   "source": [
    "And apply it to the MNIST dataset."
   ]
  },
  {
   "cell_type": "code",
   "execution_count": 2,
   "metadata": {},
   "outputs": [],
   "source": [
    "from fastai.vision.all import *\n",
    "\n",
    "pickle_path = URLs.path('mnist_png')/'mnist_png.pkl'\n",
    "path = untar_data(URLs.MNIST)/'training'\n",
    "\n",
    "if not pickle_path.exists():\n",
    "    pickle_path.parent.mkdir(parents=True, exist_ok=True)\n",
    "    ds = DataBlock(\n",
    "        blocks = (ImageBlock(PILImageBW), CategoryBlock),\n",
    "        get_items = get_image_files,\n",
    "        get_y = parent_label,\n",
    "        splitter = RandomSplitter(1/6, seed=0)\n",
    "    ).datasets(path)\n",
    "\n",
    "    xs, ys = zip(*ds.train, *ds.valid)\n",
    "    xs = np.stack(L(map(lambda x: np.array(x, dtype=np.float32).reshape(-1), xs))) / 255.\n",
    "    ys = np.array(ys, dtype=np.int64)\n",
    "\n",
    "    x_train, x_valid = xs[:len(ds.train)], xs[len(ds.train):]\n",
    "    y_train, y_valid = ys[:len(ds.train)], ys[len(ds.train):]\n",
    "\n",
    "    save_pickle(pickle_path, [x_train, y_train, x_valid, y_valid])\n",
    "\n",
    "    del ds, xs, ys, x_train, y_train, x_valid, y_valid\n",
    "\n",
    "x_train, y_train, x_valid, y_valid = map(tensor, load_pickle(pickle_path))"
   ]
  },
  {
   "cell_type": "code",
   "execution_count": 3,
   "metadata": {},
   "outputs": [],
   "source": [
    "n, m = x_train.shape\n",
    "c = y_train.max() + 1\n",
    "nh = 50\n"
   ]
  },
  {
   "cell_type": "code",
   "execution_count": 4,
   "metadata": {},
   "outputs": [
    {
     "data": {
      "text/plain": [
       "torch.Size([50000, 10])"
      ]
     },
     "execution_count": 4,
     "metadata": {},
     "output_type": "execute_result"
    }
   ],
   "source": [
    "model = Model(m, nh, c)\n",
    "pred = model(x_train)\n",
    "pred.shape\n"
   ]
  }
 ],
 "metadata": {
  "kernelspec": {
   "display_name": "fastai",
   "language": "python",
   "name": "python3"
  },
  "language_info": {
   "codemirror_mode": {
    "name": "ipython",
    "version": 3
   },
   "file_extension": ".py",
   "mimetype": "text/x-python",
   "name": "python",
   "nbconvert_exporter": "python",
   "pygments_lexer": "ipython3",
   "version": "3.12.3"
  }
 },
 "nbformat": 4,
 "nbformat_minor": 2
}
