{
 "cells": [
  {
   "cell_type": "markdown",
   "metadata": {},
   "source": [
    "We discuss defining special methods in python classes to customize behavior.\n",
    "\n",
    "- `__new__(cls[, ...])`\n",
    "    - Called to instantiate an object. Implementations typically include a call to `super().__new__(cls[, ...])` to instantiate an object before tweaking it. Should return instantiated object. Following this, `o.__init__(o[, ...])` is typically called.\n",
    "- `__init__(self[, ...])`\n",
    "    - Called automatically to initialize an object after creation.\n",
    "- `__del(self)__`\n",
    "    - Called before an object is to be destroyed.\n",
    "- `__repr(self)__`\n",
    "    - Should produce a string representation of the object primarily for debugging purposes.\n",
    "- `__str(self)__`\n",
    "    - Should produce a human-readable string representation of the object.\n",
    "- `__bytes__(self)`\n",
    "    - Byte-string representation; `bytes` object.\n",
    "- `__format__(self, format_spec)`\n",
    "    - Should return a formatted version, according to `format_spec`.\n",
    "- `__lt__(self, other)`\n",
    "- `__le__(self, other)`\n",
    "- `__eq__(self, other)`\n",
    "- `__ne__(self, other)`\n",
    "- `__gt__(self, other)`\n",
    "- `__ge__(self, other)`\n",
    "    - `__ne__` delegates to `__eq__` by default.\n",
    "    - See `functools.total_ordering` for automatic generation of comparisons.\n",
    "- `__hash__`.\n",
    "- `__bool__`.\n",
    "- `__getattr__`\n",
    "    - Used to resolve attribute access for undefined attributes as metaprogramming\n",
    "- `__getattribute__`\n",
    "    - Override default attribute access\n",
    "- `__setattr__`\n",
    "    - Called instead of default mechanism when assigning to attributes\n",
    "- `__delattr__`\n",
    "    - Called instead of default attribute deletion (e.g. `del x.a`)\n",
    "- `__dir__`\n",
    "    - Called instead of default behavior in `dir(obj)`, which normally returns a list of object attributes.\n",
    "- https://docs.python.org/3/reference/datamodel.html#emulating-container-types\n"
   ]
  },
  {
   "cell_type": "code",
   "execution_count": 1,
   "metadata": {
    "metadata": {}
   },
   "outputs": [],
   "source": [
    "class SloppyAdder():\n",
    "    def __init__(self, o):\n",
    "        self.o = o\n",
    "    def __add__(self,b):\n",
    "        return SloppyAdder(self.o + b.o + 0.01)\n",
    "    def __repr__(self):\n",
    "        return str(self.o)\n"
   ]
  },
  {
   "cell_type": "code",
   "execution_count": 2,
   "metadata": {
    "metadata": {}
   },
   "outputs": [
    {
     "data": {
      "text/plain": [
       "3.01"
      ]
     },
     "execution_count": 2,
     "metadata": {},
     "output_type": "execute_result"
    }
   ],
   "source": [
    "a = SloppyAdder(1)\n",
    "b = SloppyAdder(2)\n",
    "a + b\n"
   ]
  },
  {
   "cell_type": "code",
   "execution_count": 3,
   "metadata": {
    "metadata": {}
   },
   "outputs": [],
   "source": [
    "class A:\n",
    "    a, b = 1, 2\n"
   ]
  },
  {
   "cell_type": "code",
   "execution_count": 4,
   "metadata": {
    "metadata": {}
   },
   "outputs": [
    {
     "data": {
      "text/plain": [
       "2"
      ]
     },
     "execution_count": 4,
     "metadata": {},
     "output_type": "execute_result"
    }
   ],
   "source": [
    "a = A()\n",
    "a.b\n"
   ]
  },
  {
   "cell_type": "code",
   "execution_count": 5,
   "metadata": {
    "metadata": {}
   },
   "outputs": [
    {
     "data": {
      "text/plain": [
       "2"
      ]
     },
     "execution_count": 5,
     "metadata": {},
     "output_type": "execute_result"
    }
   ],
   "source": [
    "getattr(a, 'b')\n"
   ]
  },
  {
   "cell_type": "markdown",
   "metadata": {},
   "source": [
    "Programmatic/dynamic attribute lookup using `getattr`"
   ]
  },
  {
   "cell_type": "code",
   "execution_count": 6,
   "metadata": {},
   "outputs": [
    {
     "data": {
      "text/plain": [
       "2"
      ]
     },
     "execution_count": 6,
     "metadata": {},
     "output_type": "execute_result"
    }
   ],
   "source": [
    "import random\n",
    "getattr(a, 'b' if random.random() > 0.5 else 'a')"
   ]
  },
  {
   "cell_type": "markdown",
   "metadata": {},
   "source": [
    "Programmatically handling attribute access. Fail if attribute access attempt is of an attribute starting with an underscore and not otherwise defined."
   ]
  },
  {
   "cell_type": "code",
   "execution_count": 7,
   "metadata": {},
   "outputs": [],
   "source": [
    "class B:\n",
    "    a, b = 1, 2\n",
    "\n",
    "    def __getattr__(self, k):\n",
    "        if k[0] == '_':\n",
    "            raise AttributeError(k)\n",
    "        return f'Hello from {k}'\n"
   ]
  },
  {
   "cell_type": "code",
   "execution_count": 8,
   "metadata": {},
   "outputs": [
    {
     "data": {
      "text/plain": [
       "(1, 'Hello from foo')"
      ]
     },
     "execution_count": 8,
     "metadata": {},
     "output_type": "execute_result"
    }
   ],
   "source": [
    "b = B()\n",
    "b.a, b.foo"
   ]
  }
 ],
 "metadata": {
  "kernelspec": {
   "display_name": "fastai",
   "language": "python",
   "name": "python3"
  },
  "language_info": {
   "codemirror_mode": {
    "name": "ipython",
    "version": 3
   },
   "file_extension": ".py",
   "mimetype": "text/x-python",
   "name": "python",
   "nbconvert_exporter": "python",
   "pygments_lexer": "ipython3",
   "version": "3.12.3"
  }
 },
 "nbformat": 4,
 "nbformat_minor": 2
}
